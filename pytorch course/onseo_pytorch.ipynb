{
 "cells": [
  {
   "cell_type": "markdown",
   "metadata": {},
   "source": [
    "Loading data"
   ]
  },
  {
   "cell_type": "code",
   "execution_count": 1,
   "metadata": {},
   "outputs": [],
   "source": [
    "import os\n",
    "import time\n",
    "\n",
    "import numpy as np\n",
    "import pandas as pd\n",
    "from sklearn.model_selection import train_test_split\n",
    "from sklearn.preprocessing import StandardScaler\n",
    "import torch\n",
    "import torch.nn.functional as F\n",
    "import matplotlib.pyplot as plt\n",
    "import neptune.new as neptune"
   ]
  },
  {
   "cell_type": "code",
   "execution_count": 2,
   "metadata": {},
   "outputs": [],
   "source": [
    "CFG = {\n",
    "    \"n_epochs\": 10,\n",
    "    \"optimizer\": \"adam\",\n",
    "    \"lr\": 0.01,\n",
    "    \"seed\": 42,\n",
    "    \"batch_size\": 8,\n",
    "\n",
    "    \"model\": \"custom\",\n",
    "    \"n_hidden_layers\": 2,\n",
    "    \"hidden_state\": 32,\n",
    "    \"dropout_rate\": 0.1,\n",
    "}"
   ]
  },
  {
   "cell_type": "code",
   "execution_count": 3,
   "metadata": {},
   "outputs": [
    {
     "name": "stdout",
     "output_type": "stream",
     "text": [
      "https://app.neptune.ai/cveatt/cveatt-onseo/e/CVEAT-1\n",
      "Remember to stop your run once you’ve finished logging your metadata (https://docs.neptune.ai/api-reference/run#.stop). It will be stopped automatically only when the notebook kernel/interactive console is terminated.\n"
     ]
    }
   ],
   "source": [
    "run = neptune.init(\n",
    "    project='cveatt/cveatt-onseo',\n",
    "    api_token='eyJhcGlfYWRkcmVzcyI6Imh0dHBzOi8vYXBwLm5lcHR1bmUuYWkiLCJhcGlfdXJsIjoiaHR0cHM6Ly9hcHAubmVwdHVuZS5haSIsImFwaV9rZXkiOiJjZDc4N2M0Zi02NDU2LTRkODYtODlmZC1jNTczNzVlMzQ5M2YifQ==',\n",
    ")"
   ]
  },
  {
   "cell_type": "code",
   "execution_count": 4,
   "metadata": {},
   "outputs": [],
   "source": [
    "run['parameters'] = CFG"
   ]
  },
  {
   "cell_type": "code",
   "execution_count": 5,
   "metadata": {},
   "outputs": [
    {
     "data": {
      "text/html": [
       "<div>\n",
       "<style scoped>\n",
       "    .dataframe tbody tr th:only-of-type {\n",
       "        vertical-align: middle;\n",
       "    }\n",
       "\n",
       "    .dataframe tbody tr th {\n",
       "        vertical-align: top;\n",
       "    }\n",
       "\n",
       "    .dataframe thead th {\n",
       "        text-align: right;\n",
       "    }\n",
       "</style>\n",
       "<table border=\"1\" class=\"dataframe\">\n",
       "  <thead>\n",
       "    <tr style=\"text-align: right;\">\n",
       "      <th></th>\n",
       "      <th>SepalLengthCm</th>\n",
       "      <th>SepalWidthCm</th>\n",
       "      <th>PetalLengthCm</th>\n",
       "      <th>PetalWidthCm</th>\n",
       "      <th>Species</th>\n",
       "    </tr>\n",
       "    <tr>\n",
       "      <th>Id</th>\n",
       "      <th></th>\n",
       "      <th></th>\n",
       "      <th></th>\n",
       "      <th></th>\n",
       "      <th></th>\n",
       "    </tr>\n",
       "  </thead>\n",
       "  <tbody>\n",
       "    <tr>\n",
       "      <th>1</th>\n",
       "      <td>5.1</td>\n",
       "      <td>3.5</td>\n",
       "      <td>1.4</td>\n",
       "      <td>0.2</td>\n",
       "      <td>Iris-setosa</td>\n",
       "    </tr>\n",
       "    <tr>\n",
       "      <th>2</th>\n",
       "      <td>4.9</td>\n",
       "      <td>3.0</td>\n",
       "      <td>1.4</td>\n",
       "      <td>0.2</td>\n",
       "      <td>Iris-setosa</td>\n",
       "    </tr>\n",
       "  </tbody>\n",
       "</table>\n",
       "</div>"
      ],
      "text/plain": [
       "    SepalLengthCm  SepalWidthCm  PetalLengthCm  PetalWidthCm      Species\n",
       "Id                                                                       \n",
       "1             5.1           3.5            1.4           0.2  Iris-setosa\n",
       "2             4.9           3.0            1.4           0.2  Iris-setosa"
      ]
     },
     "execution_count": 5,
     "metadata": {},
     "output_type": "execute_result"
    }
   ],
   "source": [
    "df = pd.read_csv(\"Iris.csv\", index_col=0)\n",
    "df.head(2)"
   ]
  },
  {
   "cell_type": "markdown",
   "metadata": {},
   "source": [
    "Data preparating"
   ]
  },
  {
   "cell_type": "code",
   "execution_count": 6,
   "metadata": {},
   "outputs": [
    {
     "data": {
      "text/html": [
       "<div>\n",
       "<style scoped>\n",
       "    .dataframe tbody tr th:only-of-type {\n",
       "        vertical-align: middle;\n",
       "    }\n",
       "\n",
       "    .dataframe tbody tr th {\n",
       "        vertical-align: top;\n",
       "    }\n",
       "\n",
       "    .dataframe thead th {\n",
       "        text-align: right;\n",
       "    }\n",
       "</style>\n",
       "<table border=\"1\" class=\"dataframe\">\n",
       "  <thead>\n",
       "    <tr style=\"text-align: right;\">\n",
       "      <th></th>\n",
       "      <th>SepalLengthCm</th>\n",
       "      <th>SepalWidthCm</th>\n",
       "      <th>PetalLengthCm</th>\n",
       "      <th>PetalWidthCm</th>\n",
       "      <th>Species</th>\n",
       "      <th>target</th>\n",
       "    </tr>\n",
       "    <tr>\n",
       "      <th>Id</th>\n",
       "      <th></th>\n",
       "      <th></th>\n",
       "      <th></th>\n",
       "      <th></th>\n",
       "      <th></th>\n",
       "      <th></th>\n",
       "    </tr>\n",
       "  </thead>\n",
       "  <tbody>\n",
       "    <tr>\n",
       "      <th>1</th>\n",
       "      <td>5.1</td>\n",
       "      <td>3.5</td>\n",
       "      <td>1.4</td>\n",
       "      <td>0.2</td>\n",
       "      <td>Iris-setosa</td>\n",
       "      <td>0</td>\n",
       "    </tr>\n",
       "    <tr>\n",
       "      <th>2</th>\n",
       "      <td>4.9</td>\n",
       "      <td>3.0</td>\n",
       "      <td>1.4</td>\n",
       "      <td>0.2</td>\n",
       "      <td>Iris-setosa</td>\n",
       "      <td>0</td>\n",
       "    </tr>\n",
       "  </tbody>\n",
       "</table>\n",
       "</div>"
      ],
      "text/plain": [
       "    SepalLengthCm  SepalWidthCm  PetalLengthCm  PetalWidthCm      Species  \\\n",
       "Id                                                                          \n",
       "1             5.1           3.5            1.4           0.2  Iris-setosa   \n",
       "2             4.9           3.0            1.4           0.2  Iris-setosa   \n",
       "\n",
       "    target  \n",
       "Id          \n",
       "1        0  \n",
       "2        0  "
      ]
     },
     "execution_count": 6,
     "metadata": {},
     "output_type": "execute_result"
    }
   ],
   "source": [
    "df['target'] = df['Species'].map(\n",
    "    {\n",
    "        'Iris-setosa':0,\n",
    "        'Iris-versicolor':1,\n",
    "        'Iris-virginica':2,\n",
    "    }\n",
    ")\n",
    "df.head(2)"
   ]
  },
  {
   "cell_type": "code",
   "execution_count": 7,
   "metadata": {},
   "outputs": [
    {
     "data": {
      "text/plain": [
       "((150, 4), (150,))"
      ]
     },
     "execution_count": 7,
     "metadata": {},
     "output_type": "execute_result"
    }
   ],
   "source": [
    "feature_col = ['SepalLengthCm', 'SepalWidthCm', 'PetalLengthCm', 'PetalWidthCm']\n",
    "target_col = \"target\"\n",
    "X = df[feature_col].values\n",
    "y = df[target_col].values\n",
    "\n",
    "X.shape, y.shape\n"
   ]
  },
  {
   "cell_type": "code",
   "execution_count": 8,
   "metadata": {},
   "outputs": [
    {
     "data": {
      "text/plain": [
       "((90, 4), (30, 4), (30, 4))"
      ]
     },
     "execution_count": 8,
     "metadata": {},
     "output_type": "execute_result"
    }
   ],
   "source": [
    "X_train, X_test, y_train, y_test = train_test_split(\n",
    "    X, y, test_size=0.4, random_state=CFG[\"seed\"], stratify=y\n",
    ")\n",
    "X_val, X_test, y_val, y_test = train_test_split(\n",
    "    X_test, y_test, test_size=0.5, random_state=CFG[\"seed\"], stratify=y_test\n",
    ")\n",
    "X_train.shape, X_val.shape, X_test.shape"
   ]
  },
  {
   "cell_type": "code",
   "execution_count": 9,
   "metadata": {},
   "outputs": [],
   "source": [
    "scaler = StandardScaler()\n",
    "scaler.fit(X_train)\n",
    "\n",
    "X_train = scaler.transform(X_train)\n",
    "X_val = scaler.transform(X_val)\n",
    "X_test = scaler.transform(X_test)\n"
   ]
  },
  {
   "cell_type": "markdown",
   "metadata": {},
   "source": [
    "DATA"
   ]
  },
  {
   "cell_type": "code",
   "execution_count": 10,
   "metadata": {},
   "outputs": [],
   "source": [
    "class DataExtractor(torch.utils.data.Dataset):\n",
    "    def __init__(self, X, y):\n",
    "        self.X = X\n",
    "        self.y = y\n",
    "    \n",
    "    def __len__(self):\n",
    "        return len(self.X)\n",
    "\n",
    "    def __getitem__(self, index):\n",
    "        X = torch.tensor(self.X[index], dtype=torch.float32)\n",
    "        y = torch.tensor(self.y[index], dtype=torch.long) #long for int\n",
    "\n",
    "        return {\"X\" : X, \"y\" : y}"
   ]
  },
  {
   "cell_type": "code",
   "execution_count": 11,
   "metadata": {},
   "outputs": [],
   "source": [
    "train_data_extractor = DataExtractor(X_train, y_train)\n",
    "valid_data_extractor = DataExtractor(X_val, y_val)\n",
    "test_data_extractor = DataExtractor(X_test, y_test)"
   ]
  },
  {
   "cell_type": "code",
   "execution_count": 12,
   "metadata": {},
   "outputs": [],
   "source": [
    "train_loader = torch.utils.data.DataLoader(\n",
    "    train_data_extractor,\n",
    "    batch_size=CFG[\"batch_size\"],\n",
    "    shuffle=True,\n",
    ")\n",
    "\n",
    "valid_loader = torch.utils.data.DataLoader(\n",
    "    valid_data_extractor,\n",
    "    batch_size=CFG[\"batch_size\"],\n",
    "    shuffle=False,\n",
    ")\n",
    "\n",
    "test_loader = torch.utils.data.DataLoader(\n",
    "    test_data_extractor,\n",
    "    batch_size=CFG[\"batch_size\"],\n",
    "    shuffle=False,\n",
    ")"
   ]
  },
  {
   "cell_type": "markdown",
   "metadata": {},
   "source": [
    "MODEL"
   ]
  },
  {
   "cell_type": "code",
   "execution_count": 13,
   "metadata": {},
   "outputs": [],
   "source": [
    "class LittleModel(torch.nn.Module):\n",
    "    def __init__(self):\n",
    "        super().__init__()\n",
    "\n",
    "        self.linear1 = torch.nn.Linear(4, CFG[\"hidden_state\"])\n",
    "\n",
    "        hidden_layers = []\n",
    "        for i in range(CFG[\"n_hidden_layers\"]):\n",
    "            hidden_layers.append(\n",
    "                torch.nn.Linear(CFG[\"hidden_state\"], CFG[\"hidden_state\"])\n",
    "                )\n",
    "            hidden_layers.append(torch.nn.ReLU())\n",
    "            hidden_layers.append(torch.nn.Dropout(CFG[\"dropout_rate\"]))\n",
    "\n",
    "        self.hidden_layers = torch.nn.Sequential(*hidden_layers)\n",
    "            \n",
    "        self.linear2 = torch.nn.Linear(CFG[\"hidden_state\"], 3)\n",
    "\n",
    "    def forward(self, x):\n",
    "        x = F.relu(self.linear1(x))\n",
    "        x = self.hidden_layers(x)\n",
    "        x = self.linear2(x)\n",
    "        return(x)"
   ]
  },
  {
   "cell_type": "code",
   "execution_count": 14,
   "metadata": {},
   "outputs": [
    {
     "data": {
      "text/plain": [
       "LittleModel(\n",
       "  (linear1): Linear(in_features=4, out_features=32, bias=True)\n",
       "  (hidden_layers): Sequential(\n",
       "    (0): Linear(in_features=32, out_features=32, bias=True)\n",
       "    (1): ReLU()\n",
       "    (2): Dropout(p=0.1, inplace=False)\n",
       "    (3): Linear(in_features=32, out_features=32, bias=True)\n",
       "    (4): ReLU()\n",
       "    (5): Dropout(p=0.1, inplace=False)\n",
       "  )\n",
       "  (linear2): Linear(in_features=32, out_features=3, bias=True)\n",
       ")"
      ]
     },
     "execution_count": 14,
     "metadata": {},
     "output_type": "execute_result"
    }
   ],
   "source": [
    "model = LittleModel()\n",
    "model"
   ]
  },
  {
   "cell_type": "markdown",
   "metadata": {},
   "source": [
    "TRAIN"
   ]
  },
  {
   "cell_type": "code",
   "execution_count": 15,
   "metadata": {},
   "outputs": [],
   "source": [
    "optimizer = torch.optim.Adam(model.parameters(), lr=CFG[\"lr\"])\n",
    "criterion = F.cross_entropy"
   ]
  },
  {
   "cell_type": "code",
   "execution_count": 16,
   "metadata": {},
   "outputs": [
    {
     "name": "stdout",
     "output_type": "stream",
     "text": [
      "Epoch: 0\n",
      "Train loss: 0.88371\n",
      "Train score: 0.71111\n",
      "Valid loss: 0.55221\n",
      "Valid score: 0.80000\n",
      "Epoch: 1\n",
      "Train loss: 0.41338\n",
      "Train score: 0.85556\n",
      "Valid loss: 0.35178\n",
      "Valid score: 0.86667\n",
      "Epoch: 2\n",
      "Train loss: 0.23535\n",
      "Train score: 0.88889\n",
      "Valid loss: 0.29536\n",
      "Valid score: 0.90000\n",
      "Epoch: 3\n",
      "Train loss: 0.21676\n",
      "Train score: 0.91111\n",
      "Valid loss: 0.48986\n",
      "Valid score: 0.80000\n",
      "Epoch: 4\n",
      "Train loss: 0.17435\n",
      "Train score: 0.93333\n",
      "Valid loss: 0.13078\n",
      "Valid score: 0.96667\n",
      "Epoch: 5\n",
      "Train loss: 0.17409\n",
      "Train score: 0.95556\n",
      "Valid loss: 0.14876\n",
      "Valid score: 0.96667\n",
      "Epoch: 6\n",
      "Train loss: 0.08773\n",
      "Train score: 0.96667\n",
      "Valid loss: 0.13043\n",
      "Valid score: 0.96667\n",
      "Epoch: 7\n",
      "Train loss: 0.08967\n",
      "Train score: 0.96667\n",
      "Valid loss: 0.16471\n",
      "Valid score: 0.93333\n",
      "Epoch: 8\n",
      "Train loss: 0.04968\n",
      "Train score: 0.97778\n",
      "Valid loss: 0.13412\n",
      "Valid score: 0.93333\n",
      "Epoch: 9\n",
      "Train loss: 0.06240\n",
      "Train score: 0.97778\n",
      "Valid loss: 0.08674\n",
      "Valid score: 0.96667\n"
     ]
    }
   ],
   "source": [
    "history = {}\n",
    "\n",
    "for epoch in range (CFG[\"n_epochs\"]):\n",
    "    time.sleep(10)\n",
    "    print(f\"Epoch: {epoch}\")\n",
    "\n",
    "    model.train() # dropout activation\n",
    "    train_score = []\n",
    "    train_loss = []\n",
    "    for step, batch in enumerate(train_loader):\n",
    "        batch_X = batch[\"X\"]\n",
    "        batch_y = batch[\"y\"]\n",
    "\n",
    "        optimizer.zero_grad()\n",
    "\n",
    "        y_pred = model(batch_X)\n",
    "        loss = criterion(y_pred, batch_y)\n",
    "        loss.backward()\n",
    "\n",
    "        optimizer.step()\n",
    "\n",
    "        train_loss.append(loss.detach().item())\n",
    "        train_score.extend(\n",
    "            np.argmax(y_pred.detach().numpy(), axis=1) == batch_y.numpy()\n",
    "        )\n",
    "\n",
    "    print(f\"Train loss: {np.mean(train_loss):.5f}\")\n",
    "    run[\"train/loss\"].log(np.mean(train_loss))\n",
    "    print(f\"Train score: {np.mean(train_score):.5f}\")\n",
    "    run[\"train/score\"].log(np.mean(train_score))\n",
    "\n",
    "    model.eval() # dropout deactivation\n",
    "    valid_score = []\n",
    "    valid_loss = []\n",
    "    for step, batch in enumerate(valid_loader):\n",
    "        batch_X = batch[\"X\"]\n",
    "        batch_y = batch[\"y\"]\n",
    "\n",
    "        with torch.no_grad():\n",
    "            y_pred = model(batch_X)\n",
    "            loss = criterion(y_pred, batch_y)\n",
    "\n",
    "        valid_loss.append(loss.detach().item())\n",
    "        valid_score.extend(\n",
    "            np.argmax(y_pred.detach().numpy(), axis=1) == batch_y.numpy()\n",
    "        )\n",
    "\n",
    "    print(f\"Valid loss: {np.mean(valid_loss):.5f}\")\n",
    "    run[\"valid/loss\"].log(np.mean(valid_loss))\n",
    "    print(f\"Valid score: {np.mean(valid_score):.5f}\")\n",
    "    run[\"valid/score\"].log(np.mean(valid_score))\n",
    "\n",
    "    history[\"train_loss\"] = history.get(\"train_loss\", []) + [np.mean(train_loss)]\n",
    "    history[\"train_score\"] = history.get(\"train_score\", []) + [np.mean(train_score)]\n",
    "    history[\"valid_loss\"] = history.get(\"valid_loss\", []) + [np.mean(valid_loss)]\n",
    "    history[\"valid_score\"] = history.get(\"valid_score\", []) + [np.mean(valid_score)]\n"
   ]
  },
  {
   "cell_type": "code",
   "execution_count": 17,
   "metadata": {},
   "outputs": [
    {
     "data": {
      "image/png": "[encoded data removed]",
      "text/plain": [
       "<Figure size 1152x360 with 1 Axes>"
      ]
     },
     "metadata": {
      "needs_background": "light"
     },
     "output_type": "display_data"
    },
    {
     "data": {
      "image/png": "[encoded data removed]",
      "text/plain": [
       "<Figure size 1152x360 with 1 Axes>"
      ]
     },
     "metadata": {
      "needs_background": "light"
     },
     "output_type": "display_data"
    }
   ],
   "source": [
    "fig = plt.figure(figsize=(16, 5))\n",
    "plt.plot(history[\"train_loss\"], label=\"train_loss\")\n",
    "plt.plot(history[\"valid_loss\"], label=\"valid_loss\")\n",
    "plt.title(\"Loss curves\")\n",
    "plt.grid()\n",
    "plt.legend()\n",
    "plt.show()\n",
    "\n",
    "run[\"figures\"].log(fig)\n",
    "\n",
    "fig = plt.figure(figsize=(16, 5))\n",
    "plt.plot(history[\"train_score\"], label=\"train_score\")\n",
    "plt.plot(history[\"valid_score\"], label=\"valid_score\")\n",
    "plt.title(\"Accuracy curves\")\n",
    "plt.ylim(0, 1.01)\n",
    "plt.grid()\n",
    "plt.legend()\n",
    "plt.show()\n",
    "\n",
    "run[\"figures\"].log(fig)"
   ]
  },
  {
   "cell_type": "code",
   "execution_count": 18,
   "metadata": {},
   "outputs": [
    {
     "name": "stdout",
     "output_type": "stream",
     "text": [
      "Test loss: 0.03585\n",
      "Test score: 1.00000\n"
     ]
    }
   ],
   "source": [
    "model.eval()\n",
    "test_score = []\n",
    "test_loss = []\n",
    "\n",
    "for step, batch in enumerate(test_loader):\n",
    "    batch_X = batch[\"X\"]\n",
    "    batch_y = batch[\"y\"]\n",
    "\n",
    "    with torch.no_grad():\n",
    "        y_pred = model(batch_X)\n",
    "        loss = criterion(y_pred, batch_y)\n",
    "\n",
    "    test_loss.append(loss.detach().item())\n",
    "    test_score.extend(\n",
    "        np.argmax(y_pred.detach().numpy(), axis=1) == batch_y.numpy()\n",
    "    )\n",
    "\n",
    "print(f\"Test loss: {np.mean(test_loss):.5f}\")\n",
    "run[\"test/loss\"].log(np.mean(test_loss))\n",
    "print(f\"Test score: {np.mean(test_score):.5f}\")\n",
    "run[\"test/score\"].log(np.mean(test_score))"
   ]
  },
  {
   "cell_type": "code",
   "execution_count": 19,
   "metadata": {},
   "outputs": [
    {
     "name": "stdout",
     "output_type": "stream",
     "text": [
      "Shutting down background jobs, please wait a moment...\n",
      "Done!\n"
     ]
    },
    {
     "name": "stderr",
     "output_type": "stream",
     "text": [
      "Waiting for the remaining 1 operations to synchronize with Neptune. Do not kill this process.\n"
     ]
    },
    {
     "name": "stdout",
     "output_type": "stream",
     "text": [
      "All 1 operations synced, thanks for waiting!\n"
     ]
    }
   ],
   "source": [
    "run.stop()"
   ]
  }
 ],
 "metadata": {
  "interpreter": {
   "hash": "8795ddf962d0363521d0b54155e6ec57fb5d3ec0afc4fa58d9695bd4f3c3455e"
  },
  "kernelspec": {
   "display_name": "Python 3.9.7 ('base')",
   "language": "python",
   "name": "python3"
  },
  "language_info": {
   "codemirror_mode": {
    "name": "ipython",
    "version": 3
   },
   "file_extension": ".py",
   "mimetype": "text/x-python",
   "name": "python",
   "nbconvert_exporter": "python",
   "pygments_lexer": "ipython3",
   "version": "3.9.7"
  },
  "orig_nbformat": 4
 },
 "nbformat": 4,
 "nbformat_minor": 2
}
